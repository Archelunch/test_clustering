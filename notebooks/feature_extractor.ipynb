{
 "cells": [
  {
   "cell_type": "markdown",
   "id": "89316823-8395-4375-9dfa-a411e9d665d9",
   "metadata": {},
   "source": [
    "Получаем вектора и кластеры"
   ]
  },
  {
   "cell_type": "code",
   "execution_count": 196,
   "id": "493af130-1c96-4fc8-9a0f-aa2a25946240",
   "metadata": {},
   "outputs": [],
   "source": [
    "import pandas as pd\n",
    "import json\n",
    "import re\n",
    "import random\n",
    "from tqdm import tqdm\n",
    "from sklearn.cluster import SpectralClustering, KMeans\n",
    "from sklearn import metrics\n",
    "import pickle\n",
    "\n",
    "from wordcloud import WordCloud\n",
    "from stop_words import get_stop_words\n",
    "\n",
    "from transformers import AutoTokenizer, AutoModel\n",
    "import torch"
   ]
  },
  {
   "cell_type": "code",
   "execution_count": null,
   "id": "7a253048-6ace-4594-8526-7770e348efc1",
   "metadata": {},
   "outputs": [],
   "source": [
    "#Предобученный rubert от DeepPavlov\n",
    "tokenizer = AutoTokenizer.from_pretrained(\"DeepPavlov/rubert-base-cased\")\n",
    "model = AutoModel.from_pretrained(\"DeepPavlov/rubert-base-cased\")"
   ]
  },
  {
   "cell_type": "code",
   "execution_count": 2,
   "id": "9858087a-d565-4900-9efd-1bb3920c9fd6",
   "metadata": {},
   "outputs": [],
   "source": [
    "def embed_bert_cls(text:str):\n",
    "    \"\"\"\n",
    "    Получаем эмбеддинг текста\n",
    "    \"\"\"\n",
    "    t = tokenizer(text, padding=True, truncation=True, return_tensors='pt', max_length=5000)\n",
    "    with torch.no_grad():\n",
    "        model_output = model(**{k: v.to(model.device) for k, v in t.items()})\n",
    "    embeddings = model_output.last_hidden_state[:, 0, :]\n",
    "    embeddings = torch.nn.functional.normalize(embeddings)\n",
    "    return embeddings[0].cpu().numpy()"
   ]
  },
  {
   "cell_type": "code",
   "execution_count": 4,
   "id": "ee67376d-eb96-4794-8796-378e164dd7f8",
   "metadata": {},
   "outputs": [],
   "source": [
    "def text_processing(txt: str) -> str:\n",
    "    return txt.replace(\"\\xa0\", \" \")"
   ]
  },
  {
   "cell_type": "code",
   "execution_count": 154,
   "id": "0897275f-5114-408d-93d5-dc9901bed0de",
   "metadata": {},
   "outputs": [],
   "source": [
    "data = pd.read_json(\"../data/corpus.json\")\n",
    "data['full_text'] = data['title'].str.cat(data['annotation'], sep='\\n').apply(text_processing)"
   ]
  },
  {
   "cell_type": "code",
   "execution_count": 20,
   "id": "ce5735fc-70c1-44e5-82c3-83a4d0aa0dce",
   "metadata": {},
   "outputs": [
    {
     "name": "stderr",
     "output_type": "stream",
     "text": [
      "100%|███████████████████████████████████████| 6000/6000 [21:42<00:00,  4.61it/s]\n"
     ]
    }
   ],
   "source": [
    "embds = []\n",
    "ids=[]\n",
    "for i, article in enumerate(data['full_text'].values):\n",
    "    try:\n",
    "        embd = embed_bert_cls(article)\n",
    "        embds.append(embd)\n",
    "    except:\n",
    "        ids.append(i)\n",
    "data['embeddinigs'] = embds"
   ]
  },
  {
   "cell_type": "code",
   "execution_count": 172,
   "id": "891d7931-ebd0-455e-af18-829a155a495e",
   "metadata": {},
   "outputs": [],
   "source": [
    "# попробовал несколько подходов к кластеризации\n",
    "# по данным остановился на 4 кластерах. Только не удалось вытащить Covid и вакцины в отдельный кластер, но тут косяк в DeepPavlov\n",
    "# это можно было бы решить, поработав со словами, убрав лишние, например\n",
    "\n",
    "clustering = KMeans(n_clusters=4, algorithm=\"lloyd\", n_init=20, max_iter=500).fit(embds)\n",
    "#clustering = SpectralClustering(n_clusters=3, assign_labels='discretize', eigen_solver=\"lobpcg\").fit(embds)"
   ]
  },
  {
   "cell_type": "code",
   "execution_count": 173,
   "id": "d834d74e-a3c4-4e79-b2b5-4561fbc256f7",
   "metadata": {},
   "outputs": [],
   "source": [
    "# сохраняем эмбеддинги и кластеры\n",
    "data['cluster'] = clustering.labels_\n",
    "data.to_json(\"../data/dataset.json\")"
   ]
  },
  {
   "cell_type": "code",
   "execution_count": 210,
   "id": "54c946f0-96c7-4e6d-91e9-e616f1eb3437",
   "metadata": {},
   "outputs": [],
   "source": [
    "# сохраняем модель\n",
    "with open(\"../data/cluster.pkl\", \"wb\") as f:\n",
    "    pickle.dump(clustering, f)"
   ]
  },
  {
   "cell_type": "markdown",
   "id": "e2c3e511-2ee2-4ba4-908b-e5054110a933",
   "metadata": {},
   "source": [
    "Генерация облаков слов"
   ]
  },
  {
   "cell_type": "code",
   "execution_count": 212,
   "id": "e397fb3e-4644-4826-98cb-c4c50a2f450b",
   "metadata": {},
   "outputs": [
    {
     "data": {
      "text/html": [
       "<style>#sk-container-id-2 {color: black;background-color: white;}#sk-container-id-2 pre{padding: 0;}#sk-container-id-2 div.sk-toggleable {background-color: white;}#sk-container-id-2 label.sk-toggleable__label {cursor: pointer;display: block;width: 100%;margin-bottom: 0;padding: 0.3em;box-sizing: border-box;text-align: center;}#sk-container-id-2 label.sk-toggleable__label-arrow:before {content: \"▸\";float: left;margin-right: 0.25em;color: #696969;}#sk-container-id-2 label.sk-toggleable__label-arrow:hover:before {color: black;}#sk-container-id-2 div.sk-estimator:hover label.sk-toggleable__label-arrow:before {color: black;}#sk-container-id-2 div.sk-toggleable__content {max-height: 0;max-width: 0;overflow: hidden;text-align: left;background-color: #f0f8ff;}#sk-container-id-2 div.sk-toggleable__content pre {margin: 0.2em;color: black;border-radius: 0.25em;background-color: #f0f8ff;}#sk-container-id-2 input.sk-toggleable__control:checked~div.sk-toggleable__content {max-height: 200px;max-width: 100%;overflow: auto;}#sk-container-id-2 input.sk-toggleable__control:checked~label.sk-toggleable__label-arrow:before {content: \"▾\";}#sk-container-id-2 div.sk-estimator input.sk-toggleable__control:checked~label.sk-toggleable__label {background-color: #d4ebff;}#sk-container-id-2 div.sk-label input.sk-toggleable__control:checked~label.sk-toggleable__label {background-color: #d4ebff;}#sk-container-id-2 input.sk-hidden--visually {border: 0;clip: rect(1px 1px 1px 1px);clip: rect(1px, 1px, 1px, 1px);height: 1px;margin: -1px;overflow: hidden;padding: 0;position: absolute;width: 1px;}#sk-container-id-2 div.sk-estimator {font-family: monospace;background-color: #f0f8ff;border: 1px dotted black;border-radius: 0.25em;box-sizing: border-box;margin-bottom: 0.5em;}#sk-container-id-2 div.sk-estimator:hover {background-color: #d4ebff;}#sk-container-id-2 div.sk-parallel-item::after {content: \"\";width: 100%;border-bottom: 1px solid gray;flex-grow: 1;}#sk-container-id-2 div.sk-label:hover label.sk-toggleable__label {background-color: #d4ebff;}#sk-container-id-2 div.sk-serial::before {content: \"\";position: absolute;border-left: 1px solid gray;box-sizing: border-box;top: 0;bottom: 0;left: 50%;z-index: 0;}#sk-container-id-2 div.sk-serial {display: flex;flex-direction: column;align-items: center;background-color: white;padding-right: 0.2em;padding-left: 0.2em;position: relative;}#sk-container-id-2 div.sk-item {position: relative;z-index: 1;}#sk-container-id-2 div.sk-parallel {display: flex;align-items: stretch;justify-content: center;background-color: white;position: relative;}#sk-container-id-2 div.sk-item::before, #sk-container-id-2 div.sk-parallel-item::before {content: \"\";position: absolute;border-left: 1px solid gray;box-sizing: border-box;top: 0;bottom: 0;left: 50%;z-index: -1;}#sk-container-id-2 div.sk-parallel-item {display: flex;flex-direction: column;z-index: 1;position: relative;background-color: white;}#sk-container-id-2 div.sk-parallel-item:first-child::after {align-self: flex-end;width: 50%;}#sk-container-id-2 div.sk-parallel-item:last-child::after {align-self: flex-start;width: 50%;}#sk-container-id-2 div.sk-parallel-item:only-child::after {width: 0;}#sk-container-id-2 div.sk-dashed-wrapped {border: 1px dashed gray;margin: 0 0.4em 0.5em 0.4em;box-sizing: border-box;padding-bottom: 0.4em;background-color: white;}#sk-container-id-2 div.sk-label label {font-family: monospace;font-weight: bold;display: inline-block;line-height: 1.2em;}#sk-container-id-2 div.sk-label-container {text-align: center;}#sk-container-id-2 div.sk-container {/* jupyter's `normalize.less` sets `[hidden] { display: none; }` but bootstrap.min.css set `[hidden] { display: none !important; }` so we also need the `!important` here to be able to override the default hidden behavior on the sphinx rendered scikit-learn.org. See: https://github.com/scikit-learn/scikit-learn/issues/21755 */display: inline-block !important;position: relative;}#sk-container-id-2 div.sk-text-repr-fallback {display: none;}</style><div id=\"sk-container-id-2\" class=\"sk-top-container\"><div class=\"sk-text-repr-fallback\"><pre>KMeans(max_iter=500, n_clusters=4, n_init=20)</pre><b>In a Jupyter environment, please rerun this cell to show the HTML representation or trust the notebook. <br />On GitHub, the HTML representation is unable to render, please try loading this page with nbviewer.org.</b></div><div class=\"sk-container\" hidden><div class=\"sk-item\"><div class=\"sk-estimator sk-toggleable\"><input class=\"sk-toggleable__control sk-hidden--visually\" id=\"sk-estimator-id-2\" type=\"checkbox\" checked><label for=\"sk-estimator-id-2\" class=\"sk-toggleable__label sk-toggleable__label-arrow\">KMeans</label><div class=\"sk-toggleable__content\"><pre>KMeans(max_iter=500, n_clusters=4, n_init=20)</pre></div></div></div></div></div>"
      ],
      "text/plain": [
       "KMeans(max_iter=500, n_clusters=4, n_init=20)"
      ]
     },
     "execution_count": 212,
     "metadata": {},
     "output_type": "execute_result"
    }
   ],
   "source": [
    "model "
   ]
  },
  {
   "cell_type": "code",
   "execution_count": null,
   "id": "c2094b2b-9640-4874-8056-5df303d1e2ce",
   "metadata": {},
   "outputs": [],
   "source": [
    "# сохраняем модель\n",
    "with open(\"../data/cluster.pkl\", \"wb\") as f:\n",
    "    pickle.dump(clustering, f)"
   ]
  },
  {
   "cell_type": "code",
   "execution_count": 174,
   "id": "699247b4-958f-4dd7-9816-adc06d41e7ba",
   "metadata": {},
   "outputs": [],
   "source": [
    "data = pd.read_json(\"../data/dataset.json\")"
   ]
  },
  {
   "cell_type": "code",
   "execution_count": 175,
   "id": "1f2d5a78-d41e-4e82-a945-62537d182dd8",
   "metadata": {},
   "outputs": [
    {
     "name": "stdout",
     "output_type": "stream",
     "text": [
      "239\n",
      "1873\n",
      "2087\n",
      "276\n"
     ]
    }
   ],
   "source": [
    "for k, d in data.groupby(\"cluster\"):\n",
    "    print(len(d))"
   ]
  },
  {
   "cell_type": "code",
   "execution_count": 190,
   "id": "52c201e1-e2b9-45c8-b2af-8c532c39afb9",
   "metadata": {},
   "outputs": [],
   "source": [
    "# генератор облака слов + убираем союзы, местоимения\n",
    "# из облака тегов убрал упоминания москвы, так как это все московские новости\n",
    "stopwords = get_stop_words('ru') + ['москва', 'москве', 'москвы']\n",
    "wordcloud = WordCloud(stopwords=stopwords, width=1920,\n",
    "                      height=1080, background_color=\"white\")"
   ]
  },
  {
   "cell_type": "code",
   "execution_count": 211,
   "id": "e7b5405f-6f4c-4aca-8c78-44c04854aae1",
   "metadata": {},
   "outputs": [],
   "source": [
    "# этот процесс был вручную\n",
    "# смотрел на облако и отмечал названия для кластера"
   ]
  },
  {
   "cell_type": "code",
   "execution_count": null,
   "id": "984256fc-57bd-4fc5-ace5-36d7bc52adc3",
   "metadata": {},
   "outputs": [],
   "source": [
    "texts = \"\\n\".join(list(data.groupby(\"cluster\"))[3][1].full_text.values)\n",
    "wc = wordcloud.generate(texts.lower())\n",
    "wc.to_image()"
   ]
  },
  {
   "cell_type": "code",
   "execution_count": 189,
   "id": "e6977628-d0ab-4e0f-98c9-6c7dfef5967a",
   "metadata": {},
   "outputs": [
    {
     "data": {
      "text/plain": [
       "<wordcloud.wordcloud.WordCloud at 0x7fd9778d9510>"
      ]
     },
     "execution_count": 189,
     "metadata": {},
     "output_type": "execute_result"
    }
   ],
   "source": [
    "wc.to_file(\"../images/3_ecology.png\")"
   ]
  },
  {
   "cell_type": "code",
   "execution_count": null,
   "id": "9fe4c8f6-0aca-416b-ad75-6f8e44feca72",
   "metadata": {},
   "outputs": [],
   "source": []
  }
 ],
 "metadata": {
  "kernelspec": {
   "display_name": "Python 3 (ipykernel)",
   "language": "python",
   "name": "python3"
  },
  "language_info": {
   "codemirror_mode": {
    "name": "ipython",
    "version": 3
   },
   "file_extension": ".py",
   "mimetype": "text/x-python",
   "name": "python",
   "nbconvert_exporter": "python",
   "pygments_lexer": "ipython3",
   "version": "3.10.6"
  }
 },
 "nbformat": 4,
 "nbformat_minor": 5
}
